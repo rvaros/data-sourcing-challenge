{
 "cells": [
  {
   "cell_type": "markdown",
   "metadata": {},
   "source": [
    "### Import Required Libraries and Set Up Environment Variables"
   ]
  },
  {
   "cell_type": "code",
   "execution_count": 91,
   "metadata": {},
   "outputs": [],
   "source": [
    "# Dependencies\n",
    "import requests\n",
    "import time\n",
    "from dotenv import load_dotenv\n",
    "import os\n",
    "import pandas as pd\n",
    "import json"
   ]
  },
  {
   "cell_type": "code",
   "execution_count": 92,
   "metadata": {},
   "outputs": [
    {
     "name": "stdout",
     "output_type": "stream",
     "text": [
      "94hAYWU4ESs8uHhybhgy57zSF5B3b65z\n"
     ]
    }
   ],
   "source": [
    "# Set environment variables from the .env in the local environment\n",
    "load_dotenv('C://Users/richv/OneDrive/Documents/Challenges/Challenge 6/example.env')\n",
    "\n",
    "nyt_api_key = os.getenv(\"NYT_API_KEY\")\n",
    "print(nyt_api_key)\n",
    "tmdb_api_key = os.getenv(\"TMDB_API_KEY\")"
   ]
  },
  {
   "cell_type": "markdown",
   "metadata": {},
   "source": [
    "### Access the New York Times API"
   ]
  },
  {
   "cell_type": "code",
   "execution_count": 93,
   "metadata": {},
   "outputs": [
    {
     "name": "stdout",
     "output_type": "stream",
     "text": [
      "https://api.nytimes.com/svc/search/v2/articlesearch.json?api-key=94hAYWU4ESs8uHhybhgy57zSF5B3b65z&fq=section_name:\"Movies\" AND type_of_material:\"Review\" AND headline:\"love\"&sort=newest&begin_date=20130101&end_date=20230531&fl=headline,web_url,snippet,source,keywords,pub_date,byline,word_count\n"
     ]
    }
   ],
   "source": [
    "# Set the base URL\n",
    "url = \"https://api.nytimes.com/svc/search/v2/articlesearch.json?\"\n",
    "\n",
    "# Filter for movie reviews with \"love\" in the headline\n",
    "# section_name should be \"Movies\"\n",
    "# type_of_material should be \"Review\"\n",
    "filter_query = 'section_name:\"Movies\" AND type_of_material:\"Review\" AND headline:\"love\"'\n",
    "\n",
    "# Use a sort filter, sort by newest\n",
    "sort = \"newest\"\n",
    "\n",
    "# Select the following fields to return:\n",
    "# headline, web_url, snippet, source, keywords, pub_date, byline, word_count\n",
    "field_list = \"headline,web_url,snippet,source,keywords,pub_date,byline,word_count\"\n",
    "\n",
    "# Search for reviews published between a begin and end date\n",
    "begin_date = \"20130101\"\n",
    "end_date = \"20230531\"\n",
    "\n",
    "# Build URL\n",
    "query_url = f\"{url}api-key={nyt_api_key}&fq={filter_query}&sort={sort}&begin_date={begin_date}&end_date={end_date}&fl={field_list}\""
   ]
  },
  {
   "cell_type": "code",
   "execution_count": 94,
   "metadata": {},
   "outputs": [
    {
     "name": "stdout",
     "output_type": "stream",
     "text": [
      "https://api.nytimes.com/svc/search/v2/articlesearch.json?api-key=94hAYWU4ESs8uHhybhgy57zSF5B3b65z&fq=section_name:\"Movies\" AND type_of_material:\"Review\" AND headline:\"love\"&sort=newest&begin_date=20130101&end_date=20230531&fl=headline,web_url,snippet,source,keywords,pub_date,byline,word_count&page=0\n",
      "{'status': 'OK', 'copyright': 'Copyright (c) 2023 The New York Times Company. All Rights Reserved.', 'response': {'docs': [{'web_url': 'https://www.nytimes.com/2023/05/25/movies/the-attachment-diaries-review.html', 'snippet': 'A gynecologist and her patient form a horrifyingly twisted connection in this batty, bloody Argentine melodrama.', 'source': 'The New York Times', 'headline': {'main': '‘The Attachment Diaries’ Review: Love, Sick', 'kicker': None, 'content_kicker': None, 'print_headline': 'The Attachment Diaries', 'name': None, 'seo': None, 'sub': None}, 'keywords': [{'name': 'subject', 'value': 'Movies', 'rank': 1, 'major': 'N'}, {'name': 'creative_works', 'value': 'The Attachment Diaries (Movie)', 'rank': 2, 'major': 'N'}, {'name': 'persons', 'value': 'Diment, Valentin Javier', 'rank': 3, 'major': 'N'}], 'pub_date': '2023-05-25T11:00:03+0000', 'byline': {'original': 'By Jeannette Catsoulis', 'person': [{'firstname': 'Jeannette', 'middlename': None, 'lastname': 'Catsoulis', 'qualifier': None, 'title': None, 'role': 'reported', 'organization': '', 'rank': 1}], 'organization': None}, 'word_count': 295}, {'web_url': 'https://www.nytimes.com/2023/05/04/movies/whats-love-got-to-do-with-it-review.html', 'snippet': 'Two childhood friends navigate cultural differences in this pleasantly uncontentious romantic comedy.', 'source': 'The New York Times', 'headline': {'main': 'Review: ‘What’s Love Got to Do With It?’ Probably a Lot', 'kicker': None, 'content_kicker': None, 'print_headline': 'What’s Love Got to Do With It?', 'name': None, 'seo': None, 'sub': None}, 'keywords': [{'name': 'subject', 'value': 'Movies', 'rank': 1, 'major': 'N'}, {'name': 'persons', 'value': 'Kapur, Shekhar', 'rank': 2, 'major': 'N'}, {'name': 'persons', 'value': 'James, Lily', 'rank': 3, 'major': 'N'}, {'name': 'persons', 'value': 'Azmi, Shabana', 'rank': 4, 'major': 'N'}, {'name': 'persons', 'value': 'Thompson, Emma', 'rank': 5, 'major': 'N'}], 'pub_date': '2023-05-04T17:16:45+0000', 'byline': {'original': 'By Jeannette Catsoulis', 'person': [{'firstname': 'Jeannette', 'middlename': None, 'lastname': 'Catsoulis', 'qualifier': None, 'title': None, 'role': 'reported', 'organization': '', 'rank': 1}], 'organization': None}, 'word_count': 287}, {'web_url': 'https://www.nytimes.com/2023/05/04/movies/you-can-live-forever-review.html', 'snippet': 'Religion comes between two girls falling in love in the 1990s in this sweet coming-of-age film bathed in grunge hues.', 'source': 'The New York Times', 'headline': {'main': '‘You Can Live Forever’ Review: Do You Love Me Now?', 'kicker': None, 'content_kicker': None, 'print_headline': 'You Can Live Forever', 'name': None, 'seo': None, 'sub': None}, 'keywords': [{'name': 'subject', 'value': 'Movies', 'rank': 1, 'major': 'N'}, {'name': 'creative_works', 'value': 'You Can Live Forever (Movie)', 'rank': 2, 'major': 'N'}, {'name': 'persons', 'value': 'Slutsky, Mark', 'rank': 3, 'major': 'N'}, {'name': 'persons', 'value': 'Watts, Sarah (Film Director)', 'rank': 4, 'major': 'N'}, {'name': 'persons', 'value': \"O'Driscoll, Anwen\", 'rank': 5, 'major': 'N'}, {'name': 'persons', 'value': 'Laporte, June (Actor)', 'rank': 6, 'major': 'N'}], 'pub_date': '2023-05-04T11:00:08+0000', 'byline': {'original': 'By Elisabeth Vincentelli', 'person': [{'firstname': 'Elisabeth', 'middlename': None, 'lastname': 'Vincentelli', 'qualifier': None, 'title': None, 'role': 'reported', 'organization': '', 'rank': 1}], 'organization': None}, 'word_count': 294}, {'web_url': 'https://www.nytimes.com/2023/04/21/movies/a-tourists-guide-to-love-review.html', 'snippet': 'Rachael Leigh Cook stars in this bland rom-com as a travel executive exploring Vietnam and getting over a breakup.', 'source': 'The New York Times', 'headline': {'main': '‘A Tourist’s Guide to Love’ Review: A Wearyingly Familiar Trip', 'kicker': None, 'content_kicker': None, 'print_headline': 'A Tourist’s  Guide to Love', 'name': None, 'seo': None, 'sub': None}, 'keywords': [{'name': 'subject', 'value': 'Movies', 'rank': 1, 'major': 'N'}, {'name': 'creative_works', 'value': \"A Tourist's Guide to Love (Movie)\", 'rank': 2, 'major': 'N'}, {'name': 'persons', 'value': 'Tsuchida, Steven', 'rank': 3, 'major': 'N'}, {'name': 'persons', 'value': 'Cook, Rachael Leigh', 'rank': 4, 'major': 'N'}], 'pub_date': '2023-04-21T07:03:25+0000', 'byline': {'original': 'By Elisabeth Vincentelli', 'person': [{'firstname': 'Elisabeth', 'middlename': None, 'lastname': 'Vincentelli', 'qualifier': None, 'title': None, 'role': 'reported', 'organization': '', 'rank': 1}], 'organization': None}, 'word_count': 276}, {'web_url': 'https://www.nytimes.com/2023/04/20/movies/other-peoples-children-review.html', 'snippet': 'A radiant Virginie Efira stars as a Parisian teacher who blissfully falls for a man and his 4-year-old daughter, complicating everyone’s lives.', 'source': 'The New York Times', 'headline': {'main': '‘Other People’s Children’ Review: True Romance', 'kicker': 'Critic’s pick', 'content_kicker': None, 'print_headline': 'Intoxicating Love With a Sobering Turn', 'name': None, 'seo': None, 'sub': None}, 'keywords': [{'name': 'subject', 'value': 'Movies', 'rank': 1, 'major': 'N'}, {'name': 'persons', 'value': 'Zlotowski, Rebecca', 'rank': 2, 'major': 'N'}, {'name': 'creative_works', 'value': \"Other People's Children (Movie)\", 'rank': 3, 'major': 'N'}], 'pub_date': '2023-04-20T15:35:13+0000', 'byline': {'original': 'By Manohla Dargis', 'person': [{'firstname': 'Manohla', 'middlename': None, 'lastname': 'Dargis', 'qualifier': None, 'title': None, 'role': 'reported', 'organization': '', 'rank': 1}], 'organization': None}, 'word_count': 801}, {'web_url': 'https://www.nytimes.com/2023/04/13/movies/one-true-loves-movie-review.html', 'snippet': 'A film adaptation of Taylor Jenkins Reid’s novel has potential for drama, but it stumbles on stock melodrama.', 'source': 'The New York Times', 'headline': {'main': '‘One True Loves’ Review: A Romance Lost at Sea', 'kicker': None, 'content_kicker': None, 'print_headline': 'One True Loves', 'name': None, 'seo': None, 'sub': None}, 'keywords': [{'name': 'subject', 'value': 'Movies', 'rank': 1, 'major': 'N'}, {'name': 'persons', 'value': 'Bracey, Luke (1989- )', 'rank': 2, 'major': 'N'}, {'name': 'persons', 'value': 'Liu, Simu', 'rank': 3, 'major': 'N'}, {'name': 'persons', 'value': 'Reid, Taylor Jenkins', 'rank': 4, 'major': 'N'}, {'name': 'persons', 'value': 'Soo, Phillipa', 'rank': 5, 'major': 'N'}, {'name': 'persons', 'value': 'Fickman, Andy', 'rank': 6, 'major': 'N'}, {'name': 'creative_works', 'value': 'One True Loves (Movie)', 'rank': 7, 'major': 'N'}], 'pub_date': '2023-04-13T11:00:06+0000', 'byline': {'original': 'By Brandon Yu', 'person': [{'firstname': 'Brandon', 'middlename': None, 'lastname': 'Yu', 'qualifier': None, 'title': None, 'role': 'reported', 'organization': '', 'rank': 1}], 'organization': None}, 'word_count': 320}, {'web_url': 'https://www.nytimes.com/2023/04/13/movies/the-lost-weekend-a-love-story-review.html', 'snippet': 'There’s not much Lennon music heard in this doc about his affair with May Pang, and given how much Pang trashes his wife, Yoko Ono, it’s no surprise it was withheld.', 'source': 'The New York Times', 'headline': {'main': '‘The Lost Weekend: A Love Story’ Review: When John Lennon Strayed', 'kicker': None, 'content_kicker': None, 'print_headline': 'The Lost Weekend:  A Love Story', 'name': None, 'seo': None, 'sub': None}, 'keywords': [{'name': 'subject', 'value': 'Documentary Films and Programs', 'rank': 1, 'major': 'N'}, {'name': 'creative_works', 'value': 'The Lost Weekend: A Love Story (Movie)', 'rank': 2, 'major': 'N'}, {'name': 'persons', 'value': 'Pang, May', 'rank': 3, 'major': 'N'}, {'name': 'persons', 'value': 'Lennon, John', 'rank': 4, 'major': 'N'}, {'name': 'persons', 'value': 'Ono, Yoko', 'rank': 5, 'major': 'N'}, {'name': 'persons', 'value': 'Brandstein, Eve', 'rank': 6, 'major': 'N'}, {'name': 'persons', 'value': 'Kaufman, Richard S (Filmmaker)', 'rank': 7, 'major': 'N'}, {'name': 'persons', 'value': 'Samuels, Stuart (Filmmaker)', 'rank': 8, 'major': 'N'}, {'name': 'subject', 'value': 'Content Type: Personal Profile', 'rank': 9, 'major': 'N'}, {'name': 'subject', 'value': 'Pop and Rock Music', 'rank': 10, 'major': 'N'}], 'pub_date': '2023-04-13T11:00:03+0000', 'byline': {'original': 'By Glenn Kenny', 'person': [{'firstname': 'Glenn', 'middlename': None, 'lastname': 'Kenny', 'qualifier': None, 'title': None, 'role': 'reported', 'organization': '', 'rank': 1}], 'organization': None}, 'word_count': 327}, {'web_url': 'https://www.nytimes.com/2023/03/30/movies/a-thousand-and-one-review.html', 'snippet': 'A mesmerizing Teyana Taylor stars in A.V. Rockwell’s feature directing debut, about motherhood and survival in a fast-changing city.', 'source': 'The New York Times', 'headline': {'main': '‘A Thousand and One’ Review: A New York Love Story', 'kicker': 'Critic’s Pick', 'content_kicker': None, 'print_headline': 'An Unbending Will Meets a Shifting City', 'name': None, 'seo': None, 'sub': None}, 'keywords': [{'name': 'subject', 'value': 'Movies', 'rank': 1, 'major': 'N'}, {'name': 'creative_works', 'value': 'A Thousand and One (Movie)', 'rank': 2, 'major': 'N'}, {'name': 'persons', 'value': 'Rockwell, AV (Film Director)', 'rank': 3, 'major': 'N'}, {'name': 'persons', 'value': 'Taylor, Teyana (1990- )', 'rank': 4, 'major': 'N'}], 'pub_date': '2023-03-30T18:53:42+0000', 'byline': {'original': 'By Manohla Dargis', 'person': [{'firstname': 'Manohla', 'middlename': None, 'lastname': 'Dargis', 'qualifier': None, 'title': None, 'role': 'reported', 'organization': '', 'rank': 1}], 'organization': None}, 'word_count': 971}, {'web_url': 'https://www.nytimes.com/2023/02/09/movies/your-place-or-mine-review.html', 'snippet': 'This humdrum Netflix romantic comedy features Reese Witherspoon and Ashton Kutcher as longtime friends with possibly hidden feelings for each other.', 'source': 'The New York Times', 'headline': {'main': '‘Your Place or Mine’ Review: Try Neither', 'kicker': None, 'content_kicker': None, 'print_headline': 'They Have a Humdrum Kind of Love', 'name': None, 'seo': None, 'sub': None}, 'keywords': [{'name': 'subject', 'value': 'Movies', 'rank': 1, 'major': 'N'}, {'name': 'creative_works', 'value': 'Your Place or Mine (Movie)', 'rank': 2, 'major': 'N'}, {'name': 'persons', 'value': 'Witherspoon, Reese', 'rank': 3, 'major': 'N'}, {'name': 'persons', 'value': 'Kutcher, Ashton', 'rank': 4, 'major': 'N'}, {'name': 'persons', 'value': 'McKenna, Aline Brosh', 'rank': 5, 'major': 'N'}], 'pub_date': '2023-02-10T00:00:05+0000', 'byline': {'original': 'By Amy Nicholson', 'person': [{'firstname': 'Amy', 'middlename': None, 'lastname': 'Nicholson', 'qualifier': None, 'title': None, 'role': 'reported', 'organization': '', 'rank': 1}], 'organization': None}, 'word_count': 569}, {'web_url': 'https://www.nytimes.com/2023/02/02/movies/love-in-the-time-of-fentanyl-review.html', 'snippet': 'To combat the overdose crisis, a group that includes former and current users open a safe consumption site where shooting up does not have to mean death.', 'source': 'The New York Times', 'headline': {'main': '‘Love in the Time of Fentanyl’ Review: Heartbreak, Death and Hope in Vancouver', 'kicker': None, 'content_kicker': None, 'print_headline': 'Love in the Time Of Fentanyl', 'name': None, 'seo': None, 'sub': None}, 'keywords': [{'name': 'subject', 'value': 'Documentary Films and Programs', 'rank': 1, 'major': 'N'}, {'name': 'subject', 'value': 'Fentanyl', 'rank': 2, 'major': 'N'}, {'name': 'subject', 'value': 'Drug Abuse and Traffic', 'rank': 3, 'major': 'N'}, {'name': 'subject', 'value': 'Volunteers and Community Service', 'rank': 4, 'major': 'N'}, {'name': 'creative_works', 'value': 'Love in the Time of Fentanyl (Movie)', 'rank': 5, 'major': 'N'}, {'name': 'persons', 'value': 'Askey, Colin', 'rank': 6, 'major': 'N'}, {'name': 'glocations', 'value': 'Vancouver (British Columbia)', 'rank': 7, 'major': 'N'}, {'name': 'organizations', 'value': 'Overdose Prevention Society', 'rank': 8, 'major': 'N'}], 'pub_date': '2023-02-02T12:00:11+0000', 'byline': {'original': 'By Concepción de León', 'person': [{'firstname': 'Concepción', 'middlename': None, 'lastname': 'de León', 'qualifier': None, 'title': None, 'role': 'reported', 'organization': '', 'rank': 1}], 'organization': None}, 'word_count': 306}], 'meta': {'hits': 344, 'offset': 0, 'time': 17}}}\n",
      "Page 0 retrieved\n",
      "https://api.nytimes.com/svc/search/v2/articlesearch.json?api-key=94hAYWU4ESs8uHhybhgy57zSF5B3b65z&fq=section_name:\"Movies\" AND type_of_material:\"Review\" AND headline:\"love\"&sort=newest&begin_date=20130101&end_date=20230531&fl=headline,web_url,snippet,source,keywords,pub_date,byline,word_count&page=0&page=1\n",
      "{'status': 'OK', 'copyright': 'Copyright (c) 2023 The New York Times Company. All Rights Reserved.', 'response': {'docs': [{'web_url': 'https://www.nytimes.com/2023/05/25/movies/the-attachment-diaries-review.html', 'snippet': 'A gynecologist and her patient form a horrifyingly twisted connection in this batty, bloody Argentine melodrama.', 'source': 'The New York Times', 'headline': {'main': '‘The Attachment Diaries’ Review: Love, Sick', 'kicker': None, 'content_kicker': None, 'print_headline': 'The Attachment Diaries', 'name': None, 'seo': None, 'sub': None}, 'keywords': [{'name': 'subject', 'value': 'Movies', 'rank': 1, 'major': 'N'}, {'name': 'creative_works', 'value': 'The Attachment Diaries (Movie)', 'rank': 2, 'major': 'N'}, {'name': 'persons', 'value': 'Diment, Valentin Javier', 'rank': 3, 'major': 'N'}], 'pub_date': '2023-05-25T11:00:03+0000', 'byline': {'original': 'By Jeannette Catsoulis', 'person': [{'firstname': 'Jeannette', 'middlename': None, 'lastname': 'Catsoulis', 'qualifier': None, 'title': None, 'role': 'reported', 'organization': '', 'rank': 1}], 'organization': None}, 'word_count': 295}, {'web_url': 'https://www.nytimes.com/2023/05/04/movies/whats-love-got-to-do-with-it-review.html', 'snippet': 'Two childhood friends navigate cultural differences in this pleasantly uncontentious romantic comedy.', 'source': 'The New York Times', 'headline': {'main': 'Review: ‘What’s Love Got to Do With It?’ Probably a Lot', 'kicker': None, 'content_kicker': None, 'print_headline': 'What’s Love Got to Do With It?', 'name': None, 'seo': None, 'sub': None}, 'keywords': [{'name': 'subject', 'value': 'Movies', 'rank': 1, 'major': 'N'}, {'name': 'persons', 'value': 'Kapur, Shekhar', 'rank': 2, 'major': 'N'}, {'name': 'persons', 'value': 'James, Lily', 'rank': 3, 'major': 'N'}, {'name': 'persons', 'value': 'Azmi, Shabana', 'rank': 4, 'major': 'N'}, {'name': 'persons', 'value': 'Thompson, Emma', 'rank': 5, 'major': 'N'}], 'pub_date': '2023-05-04T17:16:45+0000', 'byline': {'original': 'By Jeannette Catsoulis', 'person': [{'firstname': 'Jeannette', 'middlename': None, 'lastname': 'Catsoulis', 'qualifier': None, 'title': None, 'role': 'reported', 'organization': '', 'rank': 1}], 'organization': None}, 'word_count': 287}, {'web_url': 'https://www.nytimes.com/2023/05/04/movies/you-can-live-forever-review.html', 'snippet': 'Religion comes between two girls falling in love in the 1990s in this sweet coming-of-age film bathed in grunge hues.', 'source': 'The New York Times', 'headline': {'main': '‘You Can Live Forever’ Review: Do You Love Me Now?', 'kicker': None, 'content_kicker': None, 'print_headline': 'You Can Live Forever', 'name': None, 'seo': None, 'sub': None}, 'keywords': [{'name': 'subject', 'value': 'Movies', 'rank': 1, 'major': 'N'}, {'name': 'creative_works', 'value': 'You Can Live Forever (Movie)', 'rank': 2, 'major': 'N'}, {'name': 'persons', 'value': 'Slutsky, Mark', 'rank': 3, 'major': 'N'}, {'name': 'persons', 'value': 'Watts, Sarah (Film Director)', 'rank': 4, 'major': 'N'}, {'name': 'persons', 'value': \"O'Driscoll, Anwen\", 'rank': 5, 'major': 'N'}, {'name': 'persons', 'value': 'Laporte, June (Actor)', 'rank': 6, 'major': 'N'}], 'pub_date': '2023-05-04T11:00:08+0000', 'byline': {'original': 'By Elisabeth Vincentelli', 'person': [{'firstname': 'Elisabeth', 'middlename': None, 'lastname': 'Vincentelli', 'qualifier': None, 'title': None, 'role': 'reported', 'organization': '', 'rank': 1}], 'organization': None}, 'word_count': 294}, {'web_url': 'https://www.nytimes.com/2023/04/21/movies/a-tourists-guide-to-love-review.html', 'snippet': 'Rachael Leigh Cook stars in this bland rom-com as a travel executive exploring Vietnam and getting over a breakup.', 'source': 'The New York Times', 'headline': {'main': '‘A Tourist’s Guide to Love’ Review: A Wearyingly Familiar Trip', 'kicker': None, 'content_kicker': None, 'print_headline': 'A Tourist’s  Guide to Love', 'name': None, 'seo': None, 'sub': None}, 'keywords': [{'name': 'subject', 'value': 'Movies', 'rank': 1, 'major': 'N'}, {'name': 'creative_works', 'value': \"A Tourist's Guide to Love (Movie)\", 'rank': 2, 'major': 'N'}, {'name': 'persons', 'value': 'Tsuchida, Steven', 'rank': 3, 'major': 'N'}, {'name': 'persons', 'value': 'Cook, Rachael Leigh', 'rank': 4, 'major': 'N'}], 'pub_date': '2023-04-21T07:03:25+0000', 'byline': {'original': 'By Elisabeth Vincentelli', 'person': [{'firstname': 'Elisabeth', 'middlename': None, 'lastname': 'Vincentelli', 'qualifier': None, 'title': None, 'role': 'reported', 'organization': '', 'rank': 1}], 'organization': None}, 'word_count': 276}, {'web_url': 'https://www.nytimes.com/2023/04/20/movies/other-peoples-children-review.html', 'snippet': 'A radiant Virginie Efira stars as a Parisian teacher who blissfully falls for a man and his 4-year-old daughter, complicating everyone’s lives.', 'source': 'The New York Times', 'headline': {'main': '‘Other People’s Children’ Review: True Romance', 'kicker': 'Critic’s pick', 'content_kicker': None, 'print_headline': 'Intoxicating Love With a Sobering Turn', 'name': None, 'seo': None, 'sub': None}, 'keywords': [{'name': 'subject', 'value': 'Movies', 'rank': 1, 'major': 'N'}, {'name': 'persons', 'value': 'Zlotowski, Rebecca', 'rank': 2, 'major': 'N'}, {'name': 'creative_works', 'value': \"Other People's Children (Movie)\", 'rank': 3, 'major': 'N'}], 'pub_date': '2023-04-20T15:35:13+0000', 'byline': {'original': 'By Manohla Dargis', 'person': [{'firstname': 'Manohla', 'middlename': None, 'lastname': 'Dargis', 'qualifier': None, 'title': None, 'role': 'reported', 'organization': '', 'rank': 1}], 'organization': None}, 'word_count': 801}, {'web_url': 'https://www.nytimes.com/2023/04/13/movies/one-true-loves-movie-review.html', 'snippet': 'A film adaptation of Taylor Jenkins Reid’s novel has potential for drama, but it stumbles on stock melodrama.', 'source': 'The New York Times', 'headline': {'main': '‘One True Loves’ Review: A Romance Lost at Sea', 'kicker': None, 'content_kicker': None, 'print_headline': 'One True Loves', 'name': None, 'seo': None, 'sub': None}, 'keywords': [{'name': 'subject', 'value': 'Movies', 'rank': 1, 'major': 'N'}, {'name': 'persons', 'value': 'Bracey, Luke (1989- )', 'rank': 2, 'major': 'N'}, {'name': 'persons', 'value': 'Liu, Simu', 'rank': 3, 'major': 'N'}, {'name': 'persons', 'value': 'Reid, Taylor Jenkins', 'rank': 4, 'major': 'N'}, {'name': 'persons', 'value': 'Soo, Phillipa', 'rank': 5, 'major': 'N'}, {'name': 'persons', 'value': 'Fickman, Andy', 'rank': 6, 'major': 'N'}, {'name': 'creative_works', 'value': 'One True Loves (Movie)', 'rank': 7, 'major': 'N'}], 'pub_date': '2023-04-13T11:00:06+0000', 'byline': {'original': 'By Brandon Yu', 'person': [{'firstname': 'Brandon', 'middlename': None, 'lastname': 'Yu', 'qualifier': None, 'title': None, 'role': 'reported', 'organization': '', 'rank': 1}], 'organization': None}, 'word_count': 320}, {'web_url': 'https://www.nytimes.com/2023/04/13/movies/the-lost-weekend-a-love-story-review.html', 'snippet': 'There’s not much Lennon music heard in this doc about his affair with May Pang, and given how much Pang trashes his wife, Yoko Ono, it’s no surprise it was withheld.', 'source': 'The New York Times', 'headline': {'main': '‘The Lost Weekend: A Love Story’ Review: When John Lennon Strayed', 'kicker': None, 'content_kicker': None, 'print_headline': 'The Lost Weekend:  A Love Story', 'name': None, 'seo': None, 'sub': None}, 'keywords': [{'name': 'subject', 'value': 'Documentary Films and Programs', 'rank': 1, 'major': 'N'}, {'name': 'creative_works', 'value': 'The Lost Weekend: A Love Story (Movie)', 'rank': 2, 'major': 'N'}, {'name': 'persons', 'value': 'Pang, May', 'rank': 3, 'major': 'N'}, {'name': 'persons', 'value': 'Lennon, John', 'rank': 4, 'major': 'N'}, {'name': 'persons', 'value': 'Ono, Yoko', 'rank': 5, 'major': 'N'}, {'name': 'persons', 'value': 'Brandstein, Eve', 'rank': 6, 'major': 'N'}, {'name': 'persons', 'value': 'Kaufman, Richard S (Filmmaker)', 'rank': 7, 'major': 'N'}, {'name': 'persons', 'value': 'Samuels, Stuart (Filmmaker)', 'rank': 8, 'major': 'N'}, {'name': 'subject', 'value': 'Content Type: Personal Profile', 'rank': 9, 'major': 'N'}, {'name': 'subject', 'value': 'Pop and Rock Music', 'rank': 10, 'major': 'N'}], 'pub_date': '2023-04-13T11:00:03+0000', 'byline': {'original': 'By Glenn Kenny', 'person': [{'firstname': 'Glenn', 'middlename': None, 'lastname': 'Kenny', 'qualifier': None, 'title': None, 'role': 'reported', 'organization': '', 'rank': 1}], 'organization': None}, 'word_count': 327}, {'web_url': 'https://www.nytimes.com/2023/03/30/movies/a-thousand-and-one-review.html', 'snippet': 'A mesmerizing Teyana Taylor stars in A.V. Rockwell’s feature directing debut, about motherhood and survival in a fast-changing city.', 'source': 'The New York Times', 'headline': {'main': '‘A Thousand and One’ Review: A New York Love Story', 'kicker': 'Critic’s Pick', 'content_kicker': None, 'print_headline': 'An Unbending Will Meets a Shifting City', 'name': None, 'seo': None, 'sub': None}, 'keywords': [{'name': 'subject', 'value': 'Movies', 'rank': 1, 'major': 'N'}, {'name': 'creative_works', 'value': 'A Thousand and One (Movie)', 'rank': 2, 'major': 'N'}, {'name': 'persons', 'value': 'Rockwell, AV (Film Director)', 'rank': 3, 'major': 'N'}, {'name': 'persons', 'value': 'Taylor, Teyana (1990- )', 'rank': 4, 'major': 'N'}], 'pub_date': '2023-03-30T18:53:42+0000', 'byline': {'original': 'By Manohla Dargis', 'person': [{'firstname': 'Manohla', 'middlename': None, 'lastname': 'Dargis', 'qualifier': None, 'title': None, 'role': 'reported', 'organization': '', 'rank': 1}], 'organization': None}, 'word_count': 971}, {'web_url': 'https://www.nytimes.com/2023/02/09/movies/your-place-or-mine-review.html', 'snippet': 'This humdrum Netflix romantic comedy features Reese Witherspoon and Ashton Kutcher as longtime friends with possibly hidden feelings for each other.', 'source': 'The New York Times', 'headline': {'main': '‘Your Place or Mine’ Review: Try Neither', 'kicker': None, 'content_kicker': None, 'print_headline': 'They Have a Humdrum Kind of Love', 'name': None, 'seo': None, 'sub': None}, 'keywords': [{'name': 'subject', 'value': 'Movies', 'rank': 1, 'major': 'N'}, {'name': 'creative_works', 'value': 'Your Place or Mine (Movie)', 'rank': 2, 'major': 'N'}, {'name': 'persons', 'value': 'Witherspoon, Reese', 'rank': 3, 'major': 'N'}, {'name': 'persons', 'value': 'Kutcher, Ashton', 'rank': 4, 'major': 'N'}, {'name': 'persons', 'value': 'McKenna, Aline Brosh', 'rank': 5, 'major': 'N'}], 'pub_date': '2023-02-10T00:00:05+0000', 'byline': {'original': 'By Amy Nicholson', 'person': [{'firstname': 'Amy', 'middlename': None, 'lastname': 'Nicholson', 'qualifier': None, 'title': None, 'role': 'reported', 'organization': '', 'rank': 1}], 'organization': None}, 'word_count': 569}, {'web_url': 'https://www.nytimes.com/2023/02/02/movies/love-in-the-time-of-fentanyl-review.html', 'snippet': 'To combat the overdose crisis, a group that includes former and current users open a safe consumption site where shooting up does not have to mean death.', 'source': 'The New York Times', 'headline': {'main': '‘Love in the Time of Fentanyl’ Review: Heartbreak, Death and Hope in Vancouver', 'kicker': None, 'content_kicker': None, 'print_headline': 'Love in the Time Of Fentanyl', 'name': None, 'seo': None, 'sub': None}, 'keywords': [{'name': 'subject', 'value': 'Documentary Films and Programs', 'rank': 1, 'major': 'N'}, {'name': 'subject', 'value': 'Fentanyl', 'rank': 2, 'major': 'N'}, {'name': 'subject', 'value': 'Drug Abuse and Traffic', 'rank': 3, 'major': 'N'}, {'name': 'subject', 'value': 'Volunteers and Community Service', 'rank': 4, 'major': 'N'}, {'name': 'creative_works', 'value': 'Love in the Time of Fentanyl (Movie)', 'rank': 5, 'major': 'N'}, {'name': 'persons', 'value': 'Askey, Colin', 'rank': 6, 'major': 'N'}, {'name': 'glocations', 'value': 'Vancouver (British Columbia)', 'rank': 7, 'major': 'N'}, {'name': 'organizations', 'value': 'Overdose Prevention Society', 'rank': 8, 'major': 'N'}], 'pub_date': '2023-02-02T12:00:11+0000', 'byline': {'original': 'By Concepción de León', 'person': [{'firstname': 'Concepción', 'middlename': None, 'lastname': 'de León', 'qualifier': None, 'title': None, 'role': 'reported', 'organization': '', 'rank': 1}], 'organization': None}, 'word_count': 306}], 'meta': {'hits': 344, 'offset': 0, 'time': 17}}}\n",
      "Page 1 retrieved\n",
      "https://api.nytimes.com/svc/search/v2/articlesearch.json?api-key=94hAYWU4ESs8uHhybhgy57zSF5B3b65z&fq=section_name:\"Movies\" AND type_of_material:\"Review\" AND headline:\"love\"&sort=newest&begin_date=20130101&end_date=20230531&fl=headline,web_url,snippet,source,keywords,pub_date,byline,word_count&page=0&page=1&page=2\n",
      "{'status': 'OK', 'copyright': 'Copyright (c) 2023 The New York Times Company. All Rights Reserved.', 'response': {'docs': [{'web_url': 'https://www.nytimes.com/2023/05/25/movies/the-attachment-diaries-review.html', 'snippet': 'A gynecologist and her patient form a horrifyingly twisted connection in this batty, bloody Argentine melodrama.', 'source': 'The New York Times', 'headline': {'main': '‘The Attachment Diaries’ Review: Love, Sick', 'kicker': None, 'content_kicker': None, 'print_headline': 'The Attachment Diaries', 'name': None, 'seo': None, 'sub': None}, 'keywords': [{'name': 'subject', 'value': 'Movies', 'rank': 1, 'major': 'N'}, {'name': 'creative_works', 'value': 'The Attachment Diaries (Movie)', 'rank': 2, 'major': 'N'}, {'name': 'persons', 'value': 'Diment, Valentin Javier', 'rank': 3, 'major': 'N'}], 'pub_date': '2023-05-25T11:00:03+0000', 'byline': {'original': 'By Jeannette Catsoulis', 'person': [{'firstname': 'Jeannette', 'middlename': None, 'lastname': 'Catsoulis', 'qualifier': None, 'title': None, 'role': 'reported', 'organization': '', 'rank': 1}], 'organization': None}, 'word_count': 295}, {'web_url': 'https://www.nytimes.com/2023/05/04/movies/whats-love-got-to-do-with-it-review.html', 'snippet': 'Two childhood friends navigate cultural differences in this pleasantly uncontentious romantic comedy.', 'source': 'The New York Times', 'headline': {'main': 'Review: ‘What’s Love Got to Do With It?’ Probably a Lot', 'kicker': None, 'content_kicker': None, 'print_headline': 'What’s Love Got to Do With It?', 'name': None, 'seo': None, 'sub': None}, 'keywords': [{'name': 'subject', 'value': 'Movies', 'rank': 1, 'major': 'N'}, {'name': 'persons', 'value': 'Kapur, Shekhar', 'rank': 2, 'major': 'N'}, {'name': 'persons', 'value': 'James, Lily', 'rank': 3, 'major': 'N'}, {'name': 'persons', 'value': 'Azmi, Shabana', 'rank': 4, 'major': 'N'}, {'name': 'persons', 'value': 'Thompson, Emma', 'rank': 5, 'major': 'N'}], 'pub_date': '2023-05-04T17:16:45+0000', 'byline': {'original': 'By Jeannette Catsoulis', 'person': [{'firstname': 'Jeannette', 'middlename': None, 'lastname': 'Catsoulis', 'qualifier': None, 'title': None, 'role': 'reported', 'organization': '', 'rank': 1}], 'organization': None}, 'word_count': 287}, {'web_url': 'https://www.nytimes.com/2023/05/04/movies/you-can-live-forever-review.html', 'snippet': 'Religion comes between two girls falling in love in the 1990s in this sweet coming-of-age film bathed in grunge hues.', 'source': 'The New York Times', 'headline': {'main': '‘You Can Live Forever’ Review: Do You Love Me Now?', 'kicker': None, 'content_kicker': None, 'print_headline': 'You Can Live Forever', 'name': None, 'seo': None, 'sub': None}, 'keywords': [{'name': 'subject', 'value': 'Movies', 'rank': 1, 'major': 'N'}, {'name': 'creative_works', 'value': 'You Can Live Forever (Movie)', 'rank': 2, 'major': 'N'}, {'name': 'persons', 'value': 'Slutsky, Mark', 'rank': 3, 'major': 'N'}, {'name': 'persons', 'value': 'Watts, Sarah (Film Director)', 'rank': 4, 'major': 'N'}, {'name': 'persons', 'value': \"O'Driscoll, Anwen\", 'rank': 5, 'major': 'N'}, {'name': 'persons', 'value': 'Laporte, June (Actor)', 'rank': 6, 'major': 'N'}], 'pub_date': '2023-05-04T11:00:08+0000', 'byline': {'original': 'By Elisabeth Vincentelli', 'person': [{'firstname': 'Elisabeth', 'middlename': None, 'lastname': 'Vincentelli', 'qualifier': None, 'title': None, 'role': 'reported', 'organization': '', 'rank': 1}], 'organization': None}, 'word_count': 294}, {'web_url': 'https://www.nytimes.com/2023/04/21/movies/a-tourists-guide-to-love-review.html', 'snippet': 'Rachael Leigh Cook stars in this bland rom-com as a travel executive exploring Vietnam and getting over a breakup.', 'source': 'The New York Times', 'headline': {'main': '‘A Tourist’s Guide to Love’ Review: A Wearyingly Familiar Trip', 'kicker': None, 'content_kicker': None, 'print_headline': 'A Tourist’s  Guide to Love', 'name': None, 'seo': None, 'sub': None}, 'keywords': [{'name': 'subject', 'value': 'Movies', 'rank': 1, 'major': 'N'}, {'name': 'creative_works', 'value': \"A Tourist's Guide to Love (Movie)\", 'rank': 2, 'major': 'N'}, {'name': 'persons', 'value': 'Tsuchida, Steven', 'rank': 3, 'major': 'N'}, {'name': 'persons', 'value': 'Cook, Rachael Leigh', 'rank': 4, 'major': 'N'}], 'pub_date': '2023-04-21T07:03:25+0000', 'byline': {'original': 'By Elisabeth Vincentelli', 'person': [{'firstname': 'Elisabeth', 'middlename': None, 'lastname': 'Vincentelli', 'qualifier': None, 'title': None, 'role': 'reported', 'organization': '', 'rank': 1}], 'organization': None}, 'word_count': 276}, {'web_url': 'https://www.nytimes.com/2023/04/20/movies/other-peoples-children-review.html', 'snippet': 'A radiant Virginie Efira stars as a Parisian teacher who blissfully falls for a man and his 4-year-old daughter, complicating everyone’s lives.', 'source': 'The New York Times', 'headline': {'main': '‘Other People’s Children’ Review: True Romance', 'kicker': 'Critic’s pick', 'content_kicker': None, 'print_headline': 'Intoxicating Love With a Sobering Turn', 'name': None, 'seo': None, 'sub': None}, 'keywords': [{'name': 'subject', 'value': 'Movies', 'rank': 1, 'major': 'N'}, {'name': 'persons', 'value': 'Zlotowski, Rebecca', 'rank': 2, 'major': 'N'}, {'name': 'creative_works', 'value': \"Other People's Children (Movie)\", 'rank': 3, 'major': 'N'}], 'pub_date': '2023-04-20T15:35:13+0000', 'byline': {'original': 'By Manohla Dargis', 'person': [{'firstname': 'Manohla', 'middlename': None, 'lastname': 'Dargis', 'qualifier': None, 'title': None, 'role': 'reported', 'organization': '', 'rank': 1}], 'organization': None}, 'word_count': 801}, {'web_url': 'https://www.nytimes.com/2023/04/13/movies/one-true-loves-movie-review.html', 'snippet': 'A film adaptation of Taylor Jenkins Reid’s novel has potential for drama, but it stumbles on stock melodrama.', 'source': 'The New York Times', 'headline': {'main': '‘One True Loves’ Review: A Romance Lost at Sea', 'kicker': None, 'content_kicker': None, 'print_headline': 'One True Loves', 'name': None, 'seo': None, 'sub': None}, 'keywords': [{'name': 'subject', 'value': 'Movies', 'rank': 1, 'major': 'N'}, {'name': 'persons', 'value': 'Bracey, Luke (1989- )', 'rank': 2, 'major': 'N'}, {'name': 'persons', 'value': 'Liu, Simu', 'rank': 3, 'major': 'N'}, {'name': 'persons', 'value': 'Reid, Taylor Jenkins', 'rank': 4, 'major': 'N'}, {'name': 'persons', 'value': 'Soo, Phillipa', 'rank': 5, 'major': 'N'}, {'name': 'persons', 'value': 'Fickman, Andy', 'rank': 6, 'major': 'N'}, {'name': 'creative_works', 'value': 'One True Loves (Movie)', 'rank': 7, 'major': 'N'}], 'pub_date': '2023-04-13T11:00:06+0000', 'byline': {'original': 'By Brandon Yu', 'person': [{'firstname': 'Brandon', 'middlename': None, 'lastname': 'Yu', 'qualifier': None, 'title': None, 'role': 'reported', 'organization': '', 'rank': 1}], 'organization': None}, 'word_count': 320}, {'web_url': 'https://www.nytimes.com/2023/04/13/movies/the-lost-weekend-a-love-story-review.html', 'snippet': 'There’s not much Lennon music heard in this doc about his affair with May Pang, and given how much Pang trashes his wife, Yoko Ono, it’s no surprise it was withheld.', 'source': 'The New York Times', 'headline': {'main': '‘The Lost Weekend: A Love Story’ Review: When John Lennon Strayed', 'kicker': None, 'content_kicker': None, 'print_headline': 'The Lost Weekend:  A Love Story', 'name': None, 'seo': None, 'sub': None}, 'keywords': [{'name': 'subject', 'value': 'Documentary Films and Programs', 'rank': 1, 'major': 'N'}, {'name': 'creative_works', 'value': 'The Lost Weekend: A Love Story (Movie)', 'rank': 2, 'major': 'N'}, {'name': 'persons', 'value': 'Pang, May', 'rank': 3, 'major': 'N'}, {'name': 'persons', 'value': 'Lennon, John', 'rank': 4, 'major': 'N'}, {'name': 'persons', 'value': 'Ono, Yoko', 'rank': 5, 'major': 'N'}, {'name': 'persons', 'value': 'Brandstein, Eve', 'rank': 6, 'major': 'N'}, {'name': 'persons', 'value': 'Kaufman, Richard S (Filmmaker)', 'rank': 7, 'major': 'N'}, {'name': 'persons', 'value': 'Samuels, Stuart (Filmmaker)', 'rank': 8, 'major': 'N'}, {'name': 'subject', 'value': 'Content Type: Personal Profile', 'rank': 9, 'major': 'N'}, {'name': 'subject', 'value': 'Pop and Rock Music', 'rank': 10, 'major': 'N'}], 'pub_date': '2023-04-13T11:00:03+0000', 'byline': {'original': 'By Glenn Kenny', 'person': [{'firstname': 'Glenn', 'middlename': None, 'lastname': 'Kenny', 'qualifier': None, 'title': None, 'role': 'reported', 'organization': '', 'rank': 1}], 'organization': None}, 'word_count': 327}, {'web_url': 'https://www.nytimes.com/2023/03/30/movies/a-thousand-and-one-review.html', 'snippet': 'A mesmerizing Teyana Taylor stars in A.V. Rockwell’s feature directing debut, about motherhood and survival in a fast-changing city.', 'source': 'The New York Times', 'headline': {'main': '‘A Thousand and One’ Review: A New York Love Story', 'kicker': 'Critic’s Pick', 'content_kicker': None, 'print_headline': 'An Unbending Will Meets a Shifting City', 'name': None, 'seo': None, 'sub': None}, 'keywords': [{'name': 'subject', 'value': 'Movies', 'rank': 1, 'major': 'N'}, {'name': 'creative_works', 'value': 'A Thousand and One (Movie)', 'rank': 2, 'major': 'N'}, {'name': 'persons', 'value': 'Rockwell, AV (Film Director)', 'rank': 3, 'major': 'N'}, {'name': 'persons', 'value': 'Taylor, Teyana (1990- )', 'rank': 4, 'major': 'N'}], 'pub_date': '2023-03-30T18:53:42+0000', 'byline': {'original': 'By Manohla Dargis', 'person': [{'firstname': 'Manohla', 'middlename': None, 'lastname': 'Dargis', 'qualifier': None, 'title': None, 'role': 'reported', 'organization': '', 'rank': 1}], 'organization': None}, 'word_count': 971}, {'web_url': 'https://www.nytimes.com/2023/02/09/movies/your-place-or-mine-review.html', 'snippet': 'This humdrum Netflix romantic comedy features Reese Witherspoon and Ashton Kutcher as longtime friends with possibly hidden feelings for each other.', 'source': 'The New York Times', 'headline': {'main': '‘Your Place or Mine’ Review: Try Neither', 'kicker': None, 'content_kicker': None, 'print_headline': 'They Have a Humdrum Kind of Love', 'name': None, 'seo': None, 'sub': None}, 'keywords': [{'name': 'subject', 'value': 'Movies', 'rank': 1, 'major': 'N'}, {'name': 'creative_works', 'value': 'Your Place or Mine (Movie)', 'rank': 2, 'major': 'N'}, {'name': 'persons', 'value': 'Witherspoon, Reese', 'rank': 3, 'major': 'N'}, {'name': 'persons', 'value': 'Kutcher, Ashton', 'rank': 4, 'major': 'N'}, {'name': 'persons', 'value': 'McKenna, Aline Brosh', 'rank': 5, 'major': 'N'}], 'pub_date': '2023-02-10T00:00:05+0000', 'byline': {'original': 'By Amy Nicholson', 'person': [{'firstname': 'Amy', 'middlename': None, 'lastname': 'Nicholson', 'qualifier': None, 'title': None, 'role': 'reported', 'organization': '', 'rank': 1}], 'organization': None}, 'word_count': 569}, {'web_url': 'https://www.nytimes.com/2023/02/02/movies/love-in-the-time-of-fentanyl-review.html', 'snippet': 'To combat the overdose crisis, a group that includes former and current users open a safe consumption site where shooting up does not have to mean death.', 'source': 'The New York Times', 'headline': {'main': '‘Love in the Time of Fentanyl’ Review: Heartbreak, Death and Hope in Vancouver', 'kicker': None, 'content_kicker': None, 'print_headline': 'Love in the Time Of Fentanyl', 'name': None, 'seo': None, 'sub': None}, 'keywords': [{'name': 'subject', 'value': 'Documentary Films and Programs', 'rank': 1, 'major': 'N'}, {'name': 'subject', 'value': 'Fentanyl', 'rank': 2, 'major': 'N'}, {'name': 'subject', 'value': 'Drug Abuse and Traffic', 'rank': 3, 'major': 'N'}, {'name': 'subject', 'value': 'Volunteers and Community Service', 'rank': 4, 'major': 'N'}, {'name': 'creative_works', 'value': 'Love in the Time of Fentanyl (Movie)', 'rank': 5, 'major': 'N'}, {'name': 'persons', 'value': 'Askey, Colin', 'rank': 6, 'major': 'N'}, {'name': 'glocations', 'value': 'Vancouver (British Columbia)', 'rank': 7, 'major': 'N'}, {'name': 'organizations', 'value': 'Overdose Prevention Society', 'rank': 8, 'major': 'N'}], 'pub_date': '2023-02-02T12:00:11+0000', 'byline': {'original': 'By Concepción de León', 'person': [{'firstname': 'Concepción', 'middlename': None, 'lastname': 'de León', 'qualifier': None, 'title': None, 'role': 'reported', 'organization': '', 'rank': 1}], 'organization': None}, 'word_count': 306}], 'meta': {'hits': 344, 'offset': 0, 'time': 17}}}\n",
      "Page 2 retrieved\n",
      "https://api.nytimes.com/svc/search/v2/articlesearch.json?api-key=94hAYWU4ESs8uHhybhgy57zSF5B3b65z&fq=section_name:\"Movies\" AND type_of_material:\"Review\" AND headline:\"love\"&sort=newest&begin_date=20130101&end_date=20230531&fl=headline,web_url,snippet,source,keywords,pub_date,byline,word_count&page=0&page=1&page=2&page=3\n",
      "{'status': 'OK', 'copyright': 'Copyright (c) 2023 The New York Times Company. All Rights Reserved.', 'response': {'docs': [{'web_url': 'https://www.nytimes.com/2023/05/25/movies/the-attachment-diaries-review.html', 'snippet': 'A gynecologist and her patient form a horrifyingly twisted connection in this batty, bloody Argentine melodrama.', 'source': 'The New York Times', 'headline': {'main': '‘The Attachment Diaries’ Review: Love, Sick', 'kicker': None, 'content_kicker': None, 'print_headline': 'The Attachment Diaries', 'name': None, 'seo': None, 'sub': None}, 'keywords': [{'name': 'subject', 'value': 'Movies', 'rank': 1, 'major': 'N'}, {'name': 'creative_works', 'value': 'The Attachment Diaries (Movie)', 'rank': 2, 'major': 'N'}, {'name': 'persons', 'value': 'Diment, Valentin Javier', 'rank': 3, 'major': 'N'}], 'pub_date': '2023-05-25T11:00:03+0000', 'byline': {'original': 'By Jeannette Catsoulis', 'person': [{'firstname': 'Jeannette', 'middlename': None, 'lastname': 'Catsoulis', 'qualifier': None, 'title': None, 'role': 'reported', 'organization': '', 'rank': 1}], 'organization': None}, 'word_count': 295}, {'web_url': 'https://www.nytimes.com/2023/05/04/movies/whats-love-got-to-do-with-it-review.html', 'snippet': 'Two childhood friends navigate cultural differences in this pleasantly uncontentious romantic comedy.', 'source': 'The New York Times', 'headline': {'main': 'Review: ‘What’s Love Got to Do With It?’ Probably a Lot', 'kicker': None, 'content_kicker': None, 'print_headline': 'What’s Love Got to Do With It?', 'name': None, 'seo': None, 'sub': None}, 'keywords': [{'name': 'subject', 'value': 'Movies', 'rank': 1, 'major': 'N'}, {'name': 'persons', 'value': 'Kapur, Shekhar', 'rank': 2, 'major': 'N'}, {'name': 'persons', 'value': 'James, Lily', 'rank': 3, 'major': 'N'}, {'name': 'persons', 'value': 'Azmi, Shabana', 'rank': 4, 'major': 'N'}, {'name': 'persons', 'value': 'Thompson, Emma', 'rank': 5, 'major': 'N'}], 'pub_date': '2023-05-04T17:16:45+0000', 'byline': {'original': 'By Jeannette Catsoulis', 'person': [{'firstname': 'Jeannette', 'middlename': None, 'lastname': 'Catsoulis', 'qualifier': None, 'title': None, 'role': 'reported', 'organization': '', 'rank': 1}], 'organization': None}, 'word_count': 287}, {'web_url': 'https://www.nytimes.com/2023/05/04/movies/you-can-live-forever-review.html', 'snippet': 'Religion comes between two girls falling in love in the 1990s in this sweet coming-of-age film bathed in grunge hues.', 'source': 'The New York Times', 'headline': {'main': '‘You Can Live Forever’ Review: Do You Love Me Now?', 'kicker': None, 'content_kicker': None, 'print_headline': 'You Can Live Forever', 'name': None, 'seo': None, 'sub': None}, 'keywords': [{'name': 'subject', 'value': 'Movies', 'rank': 1, 'major': 'N'}, {'name': 'creative_works', 'value': 'You Can Live Forever (Movie)', 'rank': 2, 'major': 'N'}, {'name': 'persons', 'value': 'Slutsky, Mark', 'rank': 3, 'major': 'N'}, {'name': 'persons', 'value': 'Watts, Sarah (Film Director)', 'rank': 4, 'major': 'N'}, {'name': 'persons', 'value': \"O'Driscoll, Anwen\", 'rank': 5, 'major': 'N'}, {'name': 'persons', 'value': 'Laporte, June (Actor)', 'rank': 6, 'major': 'N'}], 'pub_date': '2023-05-04T11:00:08+0000', 'byline': {'original': 'By Elisabeth Vincentelli', 'person': [{'firstname': 'Elisabeth', 'middlename': None, 'lastname': 'Vincentelli', 'qualifier': None, 'title': None, 'role': 'reported', 'organization': '', 'rank': 1}], 'organization': None}, 'word_count': 294}, {'web_url': 'https://www.nytimes.com/2023/04/21/movies/a-tourists-guide-to-love-review.html', 'snippet': 'Rachael Leigh Cook stars in this bland rom-com as a travel executive exploring Vietnam and getting over a breakup.', 'source': 'The New York Times', 'headline': {'main': '‘A Tourist’s Guide to Love’ Review: A Wearyingly Familiar Trip', 'kicker': None, 'content_kicker': None, 'print_headline': 'A Tourist’s  Guide to Love', 'name': None, 'seo': None, 'sub': None}, 'keywords': [{'name': 'subject', 'value': 'Movies', 'rank': 1, 'major': 'N'}, {'name': 'creative_works', 'value': \"A Tourist's Guide to Love (Movie)\", 'rank': 2, 'major': 'N'}, {'name': 'persons', 'value': 'Tsuchida, Steven', 'rank': 3, 'major': 'N'}, {'name': 'persons', 'value': 'Cook, Rachael Leigh', 'rank': 4, 'major': 'N'}], 'pub_date': '2023-04-21T07:03:25+0000', 'byline': {'original': 'By Elisabeth Vincentelli', 'person': [{'firstname': 'Elisabeth', 'middlename': None, 'lastname': 'Vincentelli', 'qualifier': None, 'title': None, 'role': 'reported', 'organization': '', 'rank': 1}], 'organization': None}, 'word_count': 276}, {'web_url': 'https://www.nytimes.com/2023/04/20/movies/other-peoples-children-review.html', 'snippet': 'A radiant Virginie Efira stars as a Parisian teacher who blissfully falls for a man and his 4-year-old daughter, complicating everyone’s lives.', 'source': 'The New York Times', 'headline': {'main': '‘Other People’s Children’ Review: True Romance', 'kicker': 'Critic’s pick', 'content_kicker': None, 'print_headline': 'Intoxicating Love With a Sobering Turn', 'name': None, 'seo': None, 'sub': None}, 'keywords': [{'name': 'subject', 'value': 'Movies', 'rank': 1, 'major': 'N'}, {'name': 'persons', 'value': 'Zlotowski, Rebecca', 'rank': 2, 'major': 'N'}, {'name': 'creative_works', 'value': \"Other People's Children (Movie)\", 'rank': 3, 'major': 'N'}], 'pub_date': '2023-04-20T15:35:13+0000', 'byline': {'original': 'By Manohla Dargis', 'person': [{'firstname': 'Manohla', 'middlename': None, 'lastname': 'Dargis', 'qualifier': None, 'title': None, 'role': 'reported', 'organization': '', 'rank': 1}], 'organization': None}, 'word_count': 801}, {'web_url': 'https://www.nytimes.com/2023/04/13/movies/one-true-loves-movie-review.html', 'snippet': 'A film adaptation of Taylor Jenkins Reid’s novel has potential for drama, but it stumbles on stock melodrama.', 'source': 'The New York Times', 'headline': {'main': '‘One True Loves’ Review: A Romance Lost at Sea', 'kicker': None, 'content_kicker': None, 'print_headline': 'One True Loves', 'name': None, 'seo': None, 'sub': None}, 'keywords': [{'name': 'subject', 'value': 'Movies', 'rank': 1, 'major': 'N'}, {'name': 'persons', 'value': 'Bracey, Luke (1989- )', 'rank': 2, 'major': 'N'}, {'name': 'persons', 'value': 'Liu, Simu', 'rank': 3, 'major': 'N'}, {'name': 'persons', 'value': 'Reid, Taylor Jenkins', 'rank': 4, 'major': 'N'}, {'name': 'persons', 'value': 'Soo, Phillipa', 'rank': 5, 'major': 'N'}, {'name': 'persons', 'value': 'Fickman, Andy', 'rank': 6, 'major': 'N'}, {'name': 'creative_works', 'value': 'One True Loves (Movie)', 'rank': 7, 'major': 'N'}], 'pub_date': '2023-04-13T11:00:06+0000', 'byline': {'original': 'By Brandon Yu', 'person': [{'firstname': 'Brandon', 'middlename': None, 'lastname': 'Yu', 'qualifier': None, 'title': None, 'role': 'reported', 'organization': '', 'rank': 1}], 'organization': None}, 'word_count': 320}, {'web_url': 'https://www.nytimes.com/2023/04/13/movies/the-lost-weekend-a-love-story-review.html', 'snippet': 'There’s not much Lennon music heard in this doc about his affair with May Pang, and given how much Pang trashes his wife, Yoko Ono, it’s no surprise it was withheld.', 'source': 'The New York Times', 'headline': {'main': '‘The Lost Weekend: A Love Story’ Review: When John Lennon Strayed', 'kicker': None, 'content_kicker': None, 'print_headline': 'The Lost Weekend:  A Love Story', 'name': None, 'seo': None, 'sub': None}, 'keywords': [{'name': 'subject', 'value': 'Documentary Films and Programs', 'rank': 1, 'major': 'N'}, {'name': 'creative_works', 'value': 'The Lost Weekend: A Love Story (Movie)', 'rank': 2, 'major': 'N'}, {'name': 'persons', 'value': 'Pang, May', 'rank': 3, 'major': 'N'}, {'name': 'persons', 'value': 'Lennon, John', 'rank': 4, 'major': 'N'}, {'name': 'persons', 'value': 'Ono, Yoko', 'rank': 5, 'major': 'N'}, {'name': 'persons', 'value': 'Brandstein, Eve', 'rank': 6, 'major': 'N'}, {'name': 'persons', 'value': 'Kaufman, Richard S (Filmmaker)', 'rank': 7, 'major': 'N'}, {'name': 'persons', 'value': 'Samuels, Stuart (Filmmaker)', 'rank': 8, 'major': 'N'}, {'name': 'subject', 'value': 'Content Type: Personal Profile', 'rank': 9, 'major': 'N'}, {'name': 'subject', 'value': 'Pop and Rock Music', 'rank': 10, 'major': 'N'}], 'pub_date': '2023-04-13T11:00:03+0000', 'byline': {'original': 'By Glenn Kenny', 'person': [{'firstname': 'Glenn', 'middlename': None, 'lastname': 'Kenny', 'qualifier': None, 'title': None, 'role': 'reported', 'organization': '', 'rank': 1}], 'organization': None}, 'word_count': 327}, {'web_url': 'https://www.nytimes.com/2023/03/30/movies/a-thousand-and-one-review.html', 'snippet': 'A mesmerizing Teyana Taylor stars in A.V. Rockwell’s feature directing debut, about motherhood and survival in a fast-changing city.', 'source': 'The New York Times', 'headline': {'main': '‘A Thousand and One’ Review: A New York Love Story', 'kicker': 'Critic’s Pick', 'content_kicker': None, 'print_headline': 'An Unbending Will Meets a Shifting City', 'name': None, 'seo': None, 'sub': None}, 'keywords': [{'name': 'subject', 'value': 'Movies', 'rank': 1, 'major': 'N'}, {'name': 'creative_works', 'value': 'A Thousand and One (Movie)', 'rank': 2, 'major': 'N'}, {'name': 'persons', 'value': 'Rockwell, AV (Film Director)', 'rank': 3, 'major': 'N'}, {'name': 'persons', 'value': 'Taylor, Teyana (1990- )', 'rank': 4, 'major': 'N'}], 'pub_date': '2023-03-30T18:53:42+0000', 'byline': {'original': 'By Manohla Dargis', 'person': [{'firstname': 'Manohla', 'middlename': None, 'lastname': 'Dargis', 'qualifier': None, 'title': None, 'role': 'reported', 'organization': '', 'rank': 1}], 'organization': None}, 'word_count': 971}, {'web_url': 'https://www.nytimes.com/2023/02/09/movies/your-place-or-mine-review.html', 'snippet': 'This humdrum Netflix romantic comedy features Reese Witherspoon and Ashton Kutcher as longtime friends with possibly hidden feelings for each other.', 'source': 'The New York Times', 'headline': {'main': '‘Your Place or Mine’ Review: Try Neither', 'kicker': None, 'content_kicker': None, 'print_headline': 'They Have a Humdrum Kind of Love', 'name': None, 'seo': None, 'sub': None}, 'keywords': [{'name': 'subject', 'value': 'Movies', 'rank': 1, 'major': 'N'}, {'name': 'creative_works', 'value': 'Your Place or Mine (Movie)', 'rank': 2, 'major': 'N'}, {'name': 'persons', 'value': 'Witherspoon, Reese', 'rank': 3, 'major': 'N'}, {'name': 'persons', 'value': 'Kutcher, Ashton', 'rank': 4, 'major': 'N'}, {'name': 'persons', 'value': 'McKenna, Aline Brosh', 'rank': 5, 'major': 'N'}], 'pub_date': '2023-02-10T00:00:05+0000', 'byline': {'original': 'By Amy Nicholson', 'person': [{'firstname': 'Amy', 'middlename': None, 'lastname': 'Nicholson', 'qualifier': None, 'title': None, 'role': 'reported', 'organization': '', 'rank': 1}], 'organization': None}, 'word_count': 569}, {'web_url': 'https://www.nytimes.com/2023/02/02/movies/love-in-the-time-of-fentanyl-review.html', 'snippet': 'To combat the overdose crisis, a group that includes former and current users open a safe consumption site where shooting up does not have to mean death.', 'source': 'The New York Times', 'headline': {'main': '‘Love in the Time of Fentanyl’ Review: Heartbreak, Death and Hope in Vancouver', 'kicker': None, 'content_kicker': None, 'print_headline': 'Love in the Time Of Fentanyl', 'name': None, 'seo': None, 'sub': None}, 'keywords': [{'name': 'subject', 'value': 'Documentary Films and Programs', 'rank': 1, 'major': 'N'}, {'name': 'subject', 'value': 'Fentanyl', 'rank': 2, 'major': 'N'}, {'name': 'subject', 'value': 'Drug Abuse and Traffic', 'rank': 3, 'major': 'N'}, {'name': 'subject', 'value': 'Volunteers and Community Service', 'rank': 4, 'major': 'N'}, {'name': 'creative_works', 'value': 'Love in the Time of Fentanyl (Movie)', 'rank': 5, 'major': 'N'}, {'name': 'persons', 'value': 'Askey, Colin', 'rank': 6, 'major': 'N'}, {'name': 'glocations', 'value': 'Vancouver (British Columbia)', 'rank': 7, 'major': 'N'}, {'name': 'organizations', 'value': 'Overdose Prevention Society', 'rank': 8, 'major': 'N'}], 'pub_date': '2023-02-02T12:00:11+0000', 'byline': {'original': 'By Concepción de León', 'person': [{'firstname': 'Concepción', 'middlename': None, 'lastname': 'de León', 'qualifier': None, 'title': None, 'role': 'reported', 'organization': '', 'rank': 1}], 'organization': None}, 'word_count': 306}], 'meta': {'hits': 344, 'offset': 0, 'time': 17}}}\n",
      "Page 3 does not have any results\n"
     ]
    }
   ],
   "source": [
    "# Create an empty list to store the reviews\n",
    "review_list = []\n",
    "\n",
    "# loop through pages 0-19\n",
    "for page in range(0, 19):\n",
    "    # create query with a page number\n",
    "    # API results show 10 articles at a time\n",
    "    query_url = query_url + \"&page=\" + str(page)\n",
    "    print(query_url)\n",
    "    \n",
    "    # Make a \"GET\" request and retrieve the JSON\n",
    "    response = requests.get(query_url).json()\n",
    "    print(response)    \n",
    "\n",
    "    reviews = requests.get(query_url).json()\n",
    "    \n",
    "    # Add a twelve second interval between queries to stay within API query limits\n",
    "    time.sleep(12)\n",
    "\n",
    "    # Try and save the reviews to the reviews_list\n",
    "    try:\n",
    "        # loop through the reviews[\"response\"][\"docs\"] and append each review to the list\n",
    "        for review in reviews[\"response\"][\"docs\"]:\n",
    "            review_list.append(review)\n",
    "        # Print the page that was just retrieved\n",
    "        print(f\"Page {page} retrieved\")\n",
    "\n",
    "        # Print the page number that had no results then break from the loop\n",
    "    except:\n",
    "        print(f\"Page {page} does not have any results\")\n",
    "        break"
   ]
  },
  {
   "cell_type": "code",
   "execution_count": 95,
   "metadata": {},
   "outputs": [],
   "source": [
    "# Preview the first 5 results in JSON format\n",
    "review_list[:5]\n",
    "\n",
    "# Use json.dumps with argument indent=4 to format data\n",
    "print(json.dumps(review_list[:5], indent=4))"
   ]
  },
  {
   "cell_type": "code",
   "execution_count": 96,
   "metadata": {},
   "outputs": [],
   "source": [
    "# Convert reviews_list to a Pandas DataFrame using json_normalize()\n",
    "review_df = pd.json_normalize(review_list)\n",
    "review_df.head()"
   ]
  },
  {
   "cell_type": "code",
   "execution_count": 97,
   "metadata": {},
   "outputs": [],
   "source": [
    "# Extract the title from the \"headline.main\" column and\n",
    "# save it to a new column \"title\"\n",
    "# Title is between unicode characters \\u2018 and \\u2019. \n",
    "# End string should include \" Review\" to avoid cutting title early\n",
    "review_df['title'] = review_df['headline.main'].str.extract(r\"\\u2018(.*)\\u2019\\s*Review\")\n",
    "review_df.head(3)"
   ]
  },
  {
   "cell_type": "code",
   "execution_count": 98,
   "metadata": {},
   "outputs": [],
   "source": [
    "# Extract 'name' and 'value' from items in \"keywords\" column\n",
    "def extract_keywords(keyword_list):\n",
    "    extracted_keywords = \"\"\n",
    "    for item in keyword_list:\n",
    "        # Extract 'name' and 'value'\n",
    "        keyword = f\"{item['name']}: {item['value']};\" \n",
    "        # Append the keyword item to the extracted_keywords list\n",
    "        extracted_keywords += keyword\n",
    "    return extracted_keywords\n",
    "# Fix the \"keywords\" column by converting cells from a list to a string\n",
    "review_df[\"keywords\"] = review_df[\"keywords\"].apply(extract_keywords)\n",
    "review_df\n"
   ]
  },
  {
   "cell_type": "code",
   "execution_count": 99,
   "metadata": {
    "scrolled": true
   },
   "outputs": [],
   "source": [
    "# Create a list from the \"title\" column using to_list()\n",
    "# These titles will be used in the query for The Movie Database\n",
    "list_of_titles = (review_df[\"title\"].dropna()).to_list()\n",
    "# remove de-duped titles\n",
    "list_of_titles = list(dict.fromkeys(list_of_titles))\n",
    "list_of_titles"
   ]
  },
  {
   "cell_type": "markdown",
   "metadata": {},
   "source": [
    "### Access The Movie Database API"
   ]
  },
  {
   "cell_type": "code",
   "execution_count": 100,
   "metadata": {},
   "outputs": [],
   "source": [
    "# Prepare The Movie Database query\n",
    "url = \"https://api.themoviedb.org/3/search/movie?query=\"\n",
    "tmdb_key_string = \"&api_key=\" + tmdb_api_key"
   ]
  },
  {
   "cell_type": "code",
   "execution_count": 101,
   "metadata": {},
   "outputs": [],
   "source": [
    "# Create an empty list to store the results\n",
    "movies_list = []\n",
    "\n",
    "# Initialize the dictionary that will be used to store the movie details\n",
    "tmdb_movies_dict = {}\n",
    "\n",
    "# Create a request counter to sleep the requests after a multiple\n",
    "# of 50 requests\n",
    "counter = 0\n",
    "\n",
    "# Loop through the titles\n",
    "for title in list_of_titles:\n",
    "    # Check if we need to sleep before making a request\n",
    "    if counter % 50 == 0 and counter != 0:\n",
    "        print(f\"Sleeping for 1 seconds after {counter} requests\")\n",
    "        time.sleep(1)\n",
    "\n",
    "    # Add 1 to the request counter\n",
    "    counter += 1\n",
    "    \n",
    "    # Perform a \"GET\" request for The Movie Database\n",
    "    print(f\"Making request number: {counter} for: {title}\")\n",
    "    \n",
    "    query_url = url + title + tmdb_key_string\n",
    "    # ##print(query_url)\n",
    "    \n",
    "    response = requests.get(query_url).json()\n",
    "    ###print(json.dumps(response, indent=4))\n",
    "    \n",
    "    \n",
    "    # Include a try clause to search for the full movie details.\n",
    "    # Use the except clause to print out a statement if a movie\n",
    "    # is not found.\n",
    "    try:\n",
    "        # Get movie id from the search results\n",
    "        movie_id = response[\"results\"][0][\"id\"]\n",
    "        \n",
    "        # Make a request for a the full movie details\n",
    "        movide_id_url = f\"https://api.themoviedb.org/3/movie/{movie_id}?api_key={tmdb_api_key}\"\n",
    "        # ##print(movide_id_url)\n",
    "           \n",
    "        # Execute \"GET\" request with url\n",
    "        response = requests.get(movide_id_url).json()\n",
    "        \n",
    "        # print(response )\n",
    "        # print(json.dumps(response, indent=4))\n",
    "                                \n",
    "        # Extract the genre names into a list\n",
    "        genres = []\n",
    "        for genre in response[\"genres\"]:\n",
    "            genres.append(genre[\"name\"])  \n",
    "                    \n",
    "        # Extract the spoken_languages' English name into a list\n",
    "        spoken_languages = []\n",
    "        for language in response[\"spoken_languages\"]:\n",
    "            spoken_languages.append(language[\"english_name\"])\n",
    "\n",
    "        # Extract the production_countries' name into a list\n",
    "        production_countries = []\n",
    "        for country in response[\"production_countries\"]:\n",
    "            production_countries.append(country[\"name\"])\n",
    "\n",
    "        # Add the relevant data to a dictionary and append it to the tmdb_movies_list list\n",
    "        tmdb_movies_dict = {\n",
    "            \"title\": response[\"title\"],\n",
    "            \"original_title\": response[\"original_title\"],\n",
    "            \"original_language\": response[\"original_language\"],\n",
    "            \"homepage\": response[\"homepage\"],\n",
    "            \"overview\": response[\"overview\"],\n",
    "            \"popularity\": response[\"popularity\"],                       \n",
    "            \"budget\": response[\"budget\"],\n",
    "            \"runtime\": response[\"runtime\"],\n",
    "            \"revenue\": response[\"revenue\"],\n",
    "            \"release_date\": response[\"release_date\"],\n",
    "            \"vote_average\": response[\"vote_average\"],\n",
    "            \"vote_count\": response[\"vote_count\"],\n",
    "            \"genres\": genres,\n",
    "            \"spoken_languages\": spoken_languages,\n",
    "            \"production_countries\": production_countries\n",
    "        }\n",
    "        \n",
    "        ##print tmdb movies dictionary\n",
    "        print(tmdb_movies_dict.items())\n",
    "        \n",
    "        movies_list.append(tmdb_movies_dict)\n",
    "        \n",
    "        # Print out the title that was found        \n",
    "    except:\n",
    "        print(f\"Movie not found: {title}\")"
   ]
  },
  {
   "cell_type": "code",
   "execution_count": 102,
   "metadata": {},
   "outputs": [],
   "source": [
    "# Preview the first 5 results in JSON format\n",
    "# Use json.dumps with argument indent=4 to format data\n",
    "print(json.dumps(movies_list[:5], indent=4))"
   ]
  },
  {
   "cell_type": "code",
   "execution_count": 103,
   "metadata": {},
   "outputs": [],
   "source": [
    "# Convert the movies_list results to a DataFrame\n",
    "movies_df = pd.DataFrame(movies_list)\n",
    "movies_df.head()"
   ]
  },
  {
   "cell_type": "markdown",
   "metadata": {},
   "source": [
    "### Merge and Clean the Data for Export"
   ]
  },
  {
   "cell_type": "code",
   "execution_count": 104,
   "metadata": {
    "scrolled": true
   },
   "outputs": [],
   "source": [
    "# Merge the New York Times reviews and TMDB DataFrames on title\n",
    "# Merge on the \"title\" column from the reviews_df and the \"original_title\" column from the movies_df\n",
    "merged_df = pd.merge(reviews_df, movies_df, left_on=\"title\", right_on=\"original_title\")\n",
    "merged_df.head()"
   ]
  },
  {
   "cell_type": "code",
   "execution_count": 105,
   "metadata": {},
   "outputs": [],
   "source": [
    "# Remove list brackets and quotation marks on the columns containing lists\n",
    "# Create a list of the columns that need fixing\n",
    "columns_to_fix = [\"genres\", \"spoken_languages\", \"production_countries\"]\n",
    "\n",
    "# Create a list of characters to remove\n",
    "characters_to_remove = [\"[\", \"]\", \"'\"]\n",
    "\n",
    "# Loop through the list of columns to fix\n",
    "for column in columns_to_fix:\n",
    "    merged_df[column] = merged_df[column].str.replace('\"', \"\")\n",
    "    \n",
    "    # Convert the column to type 'str'\n",
    "    merged_df[{column}] = merged_df[{column}].astype(str)\n",
    "\n",
    "    # Loop through characters to remove\n",
    "\n",
    "\n",
    "# Display the fixed DataFrame"
   ]
  },
  {
   "cell_type": "code",
   "execution_count": 106,
   "metadata": {},
   "outputs": [],
   "source": [
    "# Drop \"byline.person\" column\n",
    "merged_df.drop[\"byline.person\"]"
   ]
  },
  {
   "cell_type": "code",
   "execution_count": 107,
   "metadata": {},
   "outputs": [],
   "source": [
    "# Delete duplicate rows and reset index\n"
   ]
  },
  {
   "cell_type": "code",
   "execution_count": 108,
   "metadata": {},
   "outputs": [],
   "source": [
    "# Export data to CSV without the index\n"
   ]
  },
  {
   "cell_type": "code",
   "execution_count": null,
   "metadata": {},
   "outputs": [],
   "source": []
  }
 ],
 "metadata": {
  "kernelspec": {
   "display_name": "Python 3 (ipykernel)",
   "language": "python",
   "name": "python3"
  },
  "language_info": {
   "codemirror_mode": {
    "name": "ipython",
    "version": 3
   },
   "file_extension": ".py",
   "mimetype": "text/x-python",
   "name": "python",
   "nbconvert_exporter": "python",
   "pygments_lexer": "ipython3",
   "version": "3.11.5"
  },
  "varInspector": {
   "cols": {
    "lenName": 16,
    "lenType": 16,
    "lenVar": 40
   },
   "kernels_config": {
    "python": {
     "delete_cmd_postfix": "",
     "delete_cmd_prefix": "del ",
     "library": "var_list.py",
     "varRefreshCmd": "print(var_dic_list())"
    },
    "r": {
     "delete_cmd_postfix": ") ",
     "delete_cmd_prefix": "rm(",
     "library": "var_list.r",
     "varRefreshCmd": "cat(var_dic_list()) "
    }
   },
   "types_to_exclude": [
    "module",
    "function",
    "builtin_function_or_method",
    "instance",
    "_Feature"
   ],
   "window_display": false
  }
 },
 "nbformat": 4,
 "nbformat_minor": 2
}
